{
 "cells": [
  {
   "cell_type": "code",
   "execution_count": 246,
   "id": "00584f47",
   "metadata": {},
   "outputs": [
    {
     "ename": "Unhandled Exception",
     "evalue": "(1,12): error CS1002: ; expected\r\n(2,13): error CS1002: ; expected\r\n(3,13): error CS1002: ; expected\r\n(4,11): error CS1002: ; expected\r\n(5,16): error CS1002: ; expected\r\n(6,18): error CS1002: ; expected\r\n(7,20): error CS1002: ; expected\r\n(8,15): error CS1002: ; expected\r\n(9,16): error CS1002: ; expected\r\n(10,3): error CS1002: ; expected\r\n(10,3): error CS1513: } expected\r\n(10,6): error CS1002: ; expected\r\n(10,6): error CS1513: } expected\r\n(10,9): error CS1002: ; expected\r\n(10,18): error CS1002: ; expected\r\n(11,10): error CS1525: Invalid expression term 'bool'\r\n(11,14): error CS1002: ; expected\r\n(12,9): error CS1003: Syntax error, ',' expected",
     "output_type": "error",
     "traceback": [
      "(1,12): error CS1002: ; expected\r\n(2,13): error CS1002: ; expected\r\n(3,13): error CS1002: ; expected\r\n(4,11): error CS1002: ; expected\r\n(5,16): error CS1002: ; expected\r\n(6,18): error CS1002: ; expected\r\n(7,20): error CS1002: ; expected\r\n(8,15): error CS1002: ; expected\r\n(9,16): error CS1002: ; expected\r\n(10,3): error CS1002: ; expected\r\n(10,3): error CS1513: } expected\r\n(10,6): error CS1002: ; expected\r\n(10,6): error CS1513: } expected\r\n(10,9): error CS1002: ; expected\r\n(10,18): error CS1002: ; expected\r\n(11,10): error CS1525: Invalid expression term 'bool'\r\n(11,14): error CS1002: ; expected\r\n(12,9): error CS1003: Syntax error, ',' expected"
     ]
    }
   ],
   "source": [
    "5 - Integer\n",
    "5.0 - Double\n",
    "5 > 1 - Bool\n",
    "'5' - Char\n",
    "5 * 2 - Integer\n",
    "'5' * 2 - Integer\n",
    "'5' + '2' - Integer\n",
    "5 / 2 - Double\n",
    "5 % 2 - Integer\n",
    "{5, 2, 1} - Array\n",
    "5 == 3 - bool\n",
    "Pi (the number) - Double\n",
    "\n"
   ]
  },
  {
   "cell_type": "code",
   "execution_count": 247,
   "id": "0a800896",
   "metadata": {},
   "outputs": [
    {
     "name": "stdout",
     "output_type": "stream",
     "text": [
      "34\n",
      "Yes\n",
      "Bababadalgharaghtakamminarronnkonn is the longest\n",
      "Bartok\n",
      "Buxtehude\n"
     ]
    }
   ],
   "source": [
    "// 1\n",
    "\n",
    "string a = \"Supercalifragilisticexpialidocious\";\n",
    "Console.WriteLine(a.Length);\n",
    "\n",
    "// 2\n",
    "\n",
    "if (a.Contains(\"ice\")==true)\n",
    "{\n",
    "Console.WriteLine(\"Yes\");\n",
    "}\n",
    "else\n",
    "{\n",
    "Console.WriteLine(\"No\");\n",
    "}\n",
    "\n",
    "//3\n",
    "\n",
    "string b=\"Honorificabilitudinitatibus\";\n",
    "string c=\"Bababadalgharaghtakamminarronnkonn\";\n",
    "\n",
    "if (a.Length>b.Length)\n",
    "{\n",
    "if(a.Length>c.Length)\n",
    "{\n",
    "Console.WriteLine($\"{a} is the longest\");\n",
    "}\n",
    "else\n",
    "if (b.Length>c.Length)\n",
    "{\n",
    "Console.WriteLine($\"{b} is the longest\");\n",
    "}\n",
    "else\n",
    "Console.WriteLine($\"{c} is the longest\");\n",
    "}\n",
    "\n",
    "//4\n",
    "\n",
    "\n",
    "string[] composers={\"Berlioz\", \"Borodin\", \"Brian\",\n",
    "\"Bartok\", \"Bellini\", \"Buxtehude\", \"Bernstein\"};\n",
    "\n",
    "Array.Sort(composers);\n",
    "\n",
    "Console.WriteLine(composers.First());\n",
    "Console.WriteLine(composers.Last());"
   ]
  },
  {
   "cell_type": "code",
   "execution_count": 253,
   "id": "ed9aff9b",
   "metadata": {},
   "outputs": [
    {
     "name": "stdout",
     "output_type": "stream",
     "text": [
      "area of the triangle is  1.7320508075688772\r\n"
     ]
    }
   ],
   "source": [
    "class aot\n",
    "    {\n",
    "        public void area(double a, double b, double c)\n",
    "        {\n",
    "            double s,area;\n",
    "            s=(a+b+c)/2;\n",
    "          \n",
    "            area = Math.Sqrt(s * ( s - a) * (s - b) * (s - c)); \n",
    "            Console.WriteLine(\"area of the triangle is  \" + area);\n",
    "        }\n",
    "    } \n",
    "    \n",
    "\n",
    "aot program = new aot();\n",
    "program.area(2,2,2);\n",
    "    "
   ]
  },
  {
   "cell_type": "code",
   "execution_count": 252,
   "id": "16f4d569",
   "metadata": {},
   "outputs": [
    {
     "name": "stdout",
     "output_type": "stream",
     "text": [
      "The odd numbers are: \n",
      "25\n",
      "47\n",
      "The even numbers are: \n",
      "42\n",
      "56\n",
      "32\n"
     ]
    }
   ],
   "source": [
    "int[] arr = new int[5];\n",
    "arr[0]= 25;\n",
    "arr[1]= 47;\n",
    "arr[2]= 42;\n",
    "arr[3]= 56;\n",
    "arr[4]= 32;\n",
    "\n",
    "int i=0,j=0,k=0;\n",
    "\n",
    "\n",
    "int[] even = new int[5];\n",
    "int[] odd = new int[5];\n",
    "\n",
    "\n",
    "for(i=0;i<arr.Length;i++)\n",
    "{\n",
    "    \n",
    "if (arr[i]%2 == 0)\n",
    "    {\n",
    "   even[j] = arr[i];\n",
    "   j++;\n",
    "}\n",
    "else\n",
    "{\n",
    "   odd[k] = arr[i];\n",
    "   k++;\n",
    "}\n",
    "}\n",
    "        \n",
    "Console.WriteLine(\"The odd numbers are: \" );\n",
    "         \n",
    "foreach(var item in odd)\n",
    "{\n",
    "    if(item!=0){\n",
    "    Console.WriteLine( item.ToString());}\n",
    "}\n",
    "\n",
    "Console.WriteLine(\"The even numbers are: \" );\n",
    "\n",
    "foreach(var item in even)\n",
    "{\n",
    "    if(item!=0){\n",
    "    Console.WriteLine(item.ToString());}\n",
    "}"
   ]
  },
  {
   "cell_type": "code",
   "execution_count": 298,
   "id": "03e4e32a",
   "metadata": {},
   "outputs": [
    {
     "name": "stdout",
     "output_type": "stream",
     "text": [
      "false\n",
      "false\n",
      "true\n"
     ]
    }
   ],
   "source": [
    "public class rectangle\n",
    "    {\n",
    "        public void inside(double x, double y, double x1, double y1, double x2, double y2)\n",
    "        {\n",
    "            if ((x>x1 && x<x2) && (y>y1 && y<y2))\n",
    "            {\n",
    "            //return true;\n",
    "            Console.WriteLine(\"true\");\n",
    "            }\n",
    "            else{\n",
    "            //return false;\n",
    "            Console.WriteLine(\"false\");}\n",
    "            \n",
    "       \n",
    "            \n",
    "        }\n",
    "    } \n",
    "    \n",
    "rectangle program = new rectangle();\n",
    "program.inside(1,-1,0,0,2,3);\n",
    "\n",
    "//part b\n",
    "\n",
    "program.inside(1,1,0.3,0.5,1.1,0.7);\n",
    "program.inside(1,1,0.5, 0.2,1.1,2);"
   ]
  },
  {
   "cell_type": "code",
   "execution_count": null,
   "id": "63d665c4",
   "metadata": {},
   "outputs": [],
   "source": []
  }
 ],
 "metadata": {
  "kernelspec": {
   "display_name": ".NET (C#)",
   "language": "C#",
   "name": ".net-csharp"
  },
  "language_info": {
   "file_extension": ".cs",
   "mimetype": "text/x-csharp",
   "name": "C#",
   "pygments_lexer": "csharp",
   "version": "8.0"
  }
 },
 "nbformat": 4,
 "nbformat_minor": 5
}
